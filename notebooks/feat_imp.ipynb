{
 "cells": [
  {
   "cell_type": "code",
   "execution_count": 2,
   "id": "49dabd5e",
   "metadata": {},
   "outputs": [],
   "source": [
    "import joblib\n",
    "import pandas as pd\n",
    "import numpy as np"
   ]
  },
  {
   "cell_type": "code",
   "execution_count": 11,
   "id": "29c571f7",
   "metadata": {},
   "outputs": [],
   "source": [
    "# Загружаем модель и список фич\n",
    "with open(r\"C:\\Users\\Lenovo\\Project\\socml\\models\\feature_list.txt\", \"r\", encoding=\"utf-8\") as f:\n",
    "    features = f.read().split(\",\")"
   ]
  },
  {
   "cell_type": "code",
   "execution_count": 12,
   "id": "0a435d9a",
   "metadata": {},
   "outputs": [],
   "source": [
    "# Получаем важности фич (если есть)\n",
    "importances = model.feature_importances_  # у деревьев/бустинга\n",
    "feat_imp = pd.DataFrame({\"feature\": features, \"importance\": importances})\n",
    "feat_imp = feat_imp.sort_values(by=\"importance\", ascending=False)\n"
   ]
  },
  {
   "cell_type": "code",
   "execution_count": 15,
   "id": "f2fcd85f",
   "metadata": {},
   "outputs": [],
   "source": [
    "top_features = feat_imp.head(10)[\"feature\"].tolist()\n",
    "with open(\"../models/top_features.txt\", \"w\") as f:\n",
    "    f.write(\",\".join(top_features))"
   ]
  },
  {
   "cell_type": "code",
   "execution_count": null,
   "id": "33b2ec56",
   "metadata": {},
   "outputs": [],
   "source": []
  }
 ],
 "metadata": {
  "kernelspec": {
   "display_name": "Python 3",
   "language": "python",
   "name": "python3"
  },
  "language_info": {
   "codemirror_mode": {
    "name": "ipython",
    "version": 3
   },
   "file_extension": ".py",
   "mimetype": "text/x-python",
   "name": "python",
   "nbconvert_exporter": "python",
   "pygments_lexer": "ipython3",
   "version": "3.13.5"
  }
 },
 "nbformat": 4,
 "nbformat_minor": 5
}
